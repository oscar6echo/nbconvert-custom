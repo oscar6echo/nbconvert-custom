{
 "cells": [
  {
   "cell_type": "code",
   "execution_count": 1,
   "metadata": {
    "collapsed": true
   },
   "outputs": [],
   "source": [
    "import os\n",
    "import re \n",
    "import urllib\n",
    "\n",
    "import requests as rq\n",
    "\n",
    "def multiple_replace(dic, text):\n",
    "  # Create a regex from the dict keys\n",
    "  regex = re.compile('(%s)' % '|'.join(map(re.escape, dic.keys())))\n",
    "\n",
    "  # For each match, lookup corresponding value in dict\n",
    "  return regex.sub(lambda mo: dic[mo.string[mo.start():mo.end()]], text) "
   ]
  },
  {
   "cell_type": "markdown",
   "metadata": {},
   "source": [
    "## Load latest version notebook CSS\n",
    "+ Latest version is 5.1.0 - as of 21sep17 - from the jupyter notebook repo: [here](https://cdn.jupyter.org/notebook/5.1.0/style/style.min.css)\n",
    "+ For some unknown reason nbconvert is stuck at notebook css version 4.3.0 - See [setup.py](https://github.com/jupyter/nbconvert/blob/8f8ac1a8cf9aa718e9a8e6c9bc986d7c052ef5d2/setup.py#L69) "
   ]
  },
  {
   "cell_type": "code",
   "execution_count": 2,
   "metadata": {},
   "outputs": [
    {
     "name": "stderr",
     "output_type": "stream",
     "text": [
      "C:\\HOMEWARE\\anaconda-3-x86_64\\lib\\site-packages\\requests\\packages\\urllib3\\connectionpool.py:852: InsecureRequestWarning: Unverified HTTPS request is being made. Adding certificate verification is strongly advised. See: https://urllib3.readthedocs.io/en/latest/advanced-usage.html#ssl-warnings\n",
      "  InsecureRequestWarning)\n"
     ]
    },
    {
     "data": {
      "text/plain": [
       "'/*!\\n*\\n* Twitter Bootstrap\\n*\\n*/\\n/*!\\n * Bootstrap v3.3.7 (http://getbootstrap.com)\\n * Copyright 2011-2'"
      ]
     },
     "execution_count": 2,
     "metadata": {},
     "output_type": "execute_result"
    }
   ],
   "source": [
    "def load_remote_file(url, login=None, password=None,\n",
    "                     proxy_host=None, proxy_port=None,\n",
    "                     verbose=False):\n",
    "\n",
    "    is_proxy = not((login is None) and (password is None) and\n",
    "                   (proxy_host is None) and (proxy_port is None))\n",
    "    \n",
    "\n",
    "\n",
    "    if is_proxy:\n",
    "        pwd = urllib.parse.quote(password)\n",
    "        dic = {'login': login, 'pwd': pwd,\n",
    "               'proxy_host': proxy_host, 'proxy_port': proxy_port}\n",
    "        proxies = {\n",
    "            'http': 'http://{login}:{pwd}@{proxy_host}:{proxy_port}'.format(**dic),\n",
    "            'https': 'https://{login}:{pwd}@{proxy_host}:{proxy_port}'.format(**dic)\n",
    "        }\n",
    "        if verbose:\n",
    "            print('pwd:', pwd)\n",
    "            print('proxies:', proxies)\n",
    "\n",
    "    res = rq.get(url, proxies=proxies, verify=False)\n",
    "    assert res.status_code == 200, 'Download error'\n",
    "    return res.content.decode('utf-8')\n",
    "\n",
    "    \n",
    "def write_file(string, path):\n",
    "    with open(path, 'w') as f:\n",
    "        f.write(string)\n",
    "    print('file {} saved on disk'.format(path))\n",
    "\n",
    "\n",
    "version = '5.1.0'\n",
    "url = 'https://cdn.jupyter.org/notebook/{}/style/style.min.css'.format(version)\n",
    "notebook_css = load_remote_file(url,\n",
    "                                login='my-login',\n",
    "                                password='my-password',\n",
    "                                proxy_host='my-proxy.com',\n",
    "                                proxy_port='8080')\n",
    "notebook_css[:100]"
   ]
  },
  {
   "cell_type": "markdown",
   "metadata": {},
   "source": [
    "## Define custom CSS\n",
    "+ To hide the `Out[]` prompts\n",
    "+ To slightly reduce the left margin width - when the `In[]` and `Out[]` prompts go away"
   ]
  },
  {
   "cell_type": "code",
   "execution_count": 3,
   "metadata": {
    "collapsed": true
   },
   "outputs": [],
   "source": [
    "prompt_css = \"\"\"\n",
    ".output_prompt {\n",
    "    visibility: hidden;\n",
    "}\n",
    ".prompt {\n",
    "    min-width: 5%; //14px\n",
    "}\n",
    "\"\"\""
   ]
  },
  {
   "cell_type": "markdown",
   "metadata": {},
   "source": [
    "## Define nbconvert jinja template\n",
    "+ To inject the recent notebook CSS\n",
    "+ To circle in RED cells (`In` and `Out`) marked as \"# NBCONVERT IMPORTANT\" (typically first line of code cell)\n",
    "+ To remove cells (`In` and `Out`) marked as \"# NBCONVERT REMOVE\" (typically first line of code cell)\n"
   ]
  },
  {
   "cell_type": "code",
   "execution_count": 4,
   "metadata": {},
   "outputs": [
    {
     "name": "stdout",
     "output_type": "stream",
     "text": [
      "file template_selective.tpl saved on disk\n"
     ]
    }
   ],
   "source": [
    "template = \"\"\"\n",
    "{% extends 'full.tpl'%}\n",
    "\n",
    "{% block header %}\n",
    "{{ super() }}\n",
    "<style>\n",
    "__notebook_css__\n",
    "</style>\n",
    "{% endblock header %}\n",
    "\n",
    "{% block any_cell %}\n",
    "{% if cell.get('source', '').startswith('# NBCONVERT IMPORTANT') %}\n",
    "    <div style=\"border:thin solid red\">\n",
    "        {{ super() }}\n",
    "    </div>\n",
    "{% elif cell.get('source', '').startswith('# NBCONVERT REMOVE') %}\n",
    "    <div>\n",
    "    </div>\n",
    "{% else %}\n",
    "    {{ super() }}\n",
    "{% endif %}\n",
    "{% endblock any_cell %}\n",
    "\"\"\"\n",
    "\n",
    "dic = {'__notebook_css__': notebook_css}\n",
    "\n",
    "template = multiple_replace(dic, template)\n",
    "\n",
    "path = 'template_selective.tpl'\n",
    "write_file(template, path)"
   ]
  },
  {
   "cell_type": "markdown",
   "metadata": {},
   "source": [
    "## Define nbconvert jinja template\n",
    "+ To inject the recent notebook CSS\n",
    "+ To remove all `In` cells and display only outputs\n",
    "+ To hide the `Out[]` prompts and slightly reduce the left margin\n"
   ]
  },
  {
   "cell_type": "code",
   "execution_count": 5,
   "metadata": {},
   "outputs": [
    {
     "name": "stdout",
     "output_type": "stream",
     "text": [
      "file template_hide_input.tpl saved on disk\n"
     ]
    }
   ],
   "source": [
    "template = \"\"\"\n",
    "{% extends 'full.tpl'%}\n",
    "\n",
    "{% block header %}\n",
    "{{ super() }}\n",
    "<style>\n",
    "__notebook_css__\n",
    "__prompt_css__\n",
    "</style>\n",
    "{% endblock header %}\n",
    "\n",
    "{% block input_group %}\n",
    "{% endblock input_group %}\n",
    "\"\"\"\n",
    "\n",
    "dic = {'__notebook_css__': notebook_css,\n",
    "       '__prompt_css__': prompt_css}\n",
    "\n",
    "template = multiple_replace(dic, template)\n",
    "\n",
    "path = 'template_hide_input.tpl'\n",
    "write_file(template, path)"
   ]
  },
  {
   "cell_type": "markdown",
   "metadata": {},
   "source": [
    "## Choose notebook and template\n",
    "+ To run nbconvert\n"
   ]
  },
  {
   "cell_type": "code",
   "execution_count": 6,
   "metadata": {},
   "outputs": [
    {
     "name": "stdout",
     "output_type": "stream",
     "text": [
      "Run nbconvert with\n",
      "\tnotebook\tsample_notebook.ipynb\n",
      "\ttemplate\ttemplate_hide_input.tpl\n"
     ]
    }
   ],
   "source": [
    "nb_filename = 'sample_notebook.ipynb'\n",
    "\n",
    "# template = 'template_selective.tpl'\n",
    "template = 'template_hide_input.tpl'\n",
    "\n",
    "print('Run nbconvert with\\n\\tnotebook\\t{}\\n\\ttemplate\\t{}'.format(nb_filename, template))"
   ]
  },
  {
   "cell_type": "code",
   "execution_count": 7,
   "metadata": {
    "scrolled": false
   },
   "outputs": [
    {
     "name": "stderr",
     "output_type": "stream",
     "text": [
      "[NbConvertApp] Converting notebook sample_notebook.ipynb to html\n",
      "[NbConvertApp] Writing 577342 bytes to sample_notebook.html\n"
     ]
    }
   ],
   "source": [
    "!jupyter nbconvert --to html $nb_filename --template=$template"
   ]
  },
  {
   "cell_type": "code",
   "execution_count": null,
   "metadata": {
    "collapsed": true
   },
   "outputs": [],
   "source": []
  }
 ],
 "metadata": {
  "kernelspec": {
   "display_name": "Python 3",
   "language": "python",
   "name": "python3"
  },
  "language_info": {
   "codemirror_mode": {
    "name": "ipython",
    "version": 3
   },
   "file_extension": ".py",
   "mimetype": "text/x-python",
   "name": "python",
   "nbconvert_exporter": "python",
   "pygments_lexer": "ipython3",
   "version": "3.5.2"
  }
 },
 "nbformat": 4,
 "nbformat_minor": 2
}
