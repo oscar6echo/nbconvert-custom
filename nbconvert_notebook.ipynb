{
 "cells": [
  {
   "cell_type": "code",
   "execution_count": 1,
   "metadata": {
    "collapsed": true
   },
   "outputs": [],
   "source": [
    "import os\n",
    "import re \n",
    "import urllib\n",
    "\n",
    "import requests as rq\n",
    "\n",
    "def multiple_replace(dic, text):\n",
    "  # Create a regex from the dict keys\n",
    "  regex = re.compile('(%s)' % '|'.join(map(re.escape, dic.keys())))\n",
    "\n",
    "  # For each match, lookup corresponding value in dict\n",
    "  return regex.sub(lambda mo: dic[mo.string[mo.start():mo.end()]], text) "
   ]
  },
  {
   "cell_type": "markdown",
   "metadata": {},
   "source": [
    "## Load latest version notebook CSS\n",
    "+ Latest version is 5.1.0 - as of 21sep17 - from the jupyter notebook repo: [here](https://cdn.jupyter.org/notebook/5.1.0/style/style.min.css)\n",
    "+ For some unknown reason nbconvert is stuck at notebook css version 4.3.0 - See [setup.py](https://github.com/jupyter/nbconvert/blob/8f8ac1a8cf9aa718e9a8e6c9bc986d7c052ef5d2/setup.py#L69) "
   ]
  },
  {
   "cell_type": "code",
   "execution_count": 2,
   "metadata": {},
   "outputs": [
    {
     "data": {
      "text/plain": [
       "'/*!\\n*\\n* Twitter Bootstrap\\n*\\n*/\\n/*!\\n * Bootstrap v3.3.7 (http://getbootstrap.com)\\n * Copyright 2011-2'"
      ]
     },
     "execution_count": 2,
     "metadata": {},
     "output_type": "execute_result"
    }
   ],
   "source": [
    "def load_remote_file(url, login='login', password='',\n",
    "                     proxies=False, proxy_host='', proxy_port=''):\n",
    "\n",
    "    pwd = urllib.parse.quote(password)\n",
    "\n",
    "    if proxies:\n",
    "        dic = {'login': login, 'pwd': pwd,\n",
    "               'proxy_host': proxy_host, 'proxy_port': proxy_port}\n",
    "        proxies = {\n",
    "            'http': 'http://{login}:{pwd}@{proxy_host}:{proxy_port}'.format(**dic),\n",
    "            'https': 'https://{login}:{pwd}@{proxy_host}:{proxy_port}'.format(**dic)\n",
    "        }\n",
    "\n",
    "    res = rq.get(url, proxies=proxies)\n",
    "    assert res.status_code == 200, 'Download error'\n",
    "    return res.content.decode('utf-8')\n",
    "\n",
    "    \n",
    "def write_file(string, path):\n",
    "    with open(path, 'w') as f:\n",
    "        f.write(string)\n",
    "    print('file {} saved on disk'.format(path))\n",
    "\n",
    "\n",
    "version = '5.1.0'\n",
    "url = 'https://cdn.jupyter.org/notebook/{}/style/style.min.css'.format(version)\n",
    "notebook_css = load_remote_file(url)\n",
    "\n",
    "notebook_css[:100]"
   ]
  },
  {
   "cell_type": "markdown",
   "metadata": {},
   "source": [
    "## Define custom CSS\n",
    "+ To hide the `Out[]` prompts\n",
    "+ To slightly reduce the left margin width - when the `In[]` and `Out[]` prompts go away"
   ]
  },
  {
   "cell_type": "code",
   "execution_count": 41,
   "metadata": {
    "collapsed": true
   },
   "outputs": [],
   "source": [
    "prompt_css = \"\"\"\n",
    ".output_prompt {\n",
    "    visibility: hidden;\n",
    "}\n",
    ".prompt {\n",
    "    min-width: 5%; //14px\n",
    "}\n",
    "\"\"\"\n",
    "\n",
    "ribbon_css = \"\"\"\n",
    "\n",
    "/* The ribbons */\n",
    "\n",
    ".corner-ribbon{\n",
    "  width: 200px;\n",
    "  background: #e43;\n",
    "  position: relative;\n",
    "  top: 25px;\n",
    "  left: -50px;\n",
    "  text-align: center;\n",
    "  line-height: 50px;\n",
    "  letter-spacing: 1px;\n",
    "  color: #f0f0f0;\n",
    "  transform: rotate(-45deg);\n",
    "  -webkit-transform: rotate(-45deg);\n",
    "}\n",
    "\n",
    "/* Custom styles */\n",
    "\n",
    ".corner-ribbon.sticky{\n",
    "  position: fixed;\n",
    "}\n",
    "\n",
    ".corner-ribbon.shadow{\n",
    "  box-shadow: 0 0 3px rgba(0,0,0,.3);\n",
    "}\n",
    "\n",
    "/* Different positions */\n",
    "\n",
    ".corner-ribbon.top-left{\n",
    "  top: 25px;\n",
    "  left: -50px;\n",
    "  transform: rotate(-45deg);\n",
    "  -webkit-transform: rotate(-45deg);\n",
    "}\n",
    "\n",
    ".corner-ribbon.top-right{\n",
    "  top: 25px;\n",
    "  right: -50px;\n",
    "  left: auto;\n",
    "  transform: rotate(45deg);\n",
    "  -webkit-transform: rotate(45deg);\n",
    "}\n",
    "\n",
    ".corner-ribbon.bottom-left{\n",
    "  top: auto;\n",
    "  bottom: 25px;\n",
    "  left: -50px;\n",
    "  transform: rotate(45deg);\n",
    "  -webkit-transform: rotate(45deg);\n",
    "}\n",
    "\n",
    ".corner-ribbon.bottom-right{\n",
    "  top: auto;\n",
    "  right: -50px;\n",
    "  bottom: 25px;\n",
    "  left: auto;\n",
    "  transform: rotate(-45deg);\n",
    "  -webkit-transform: rotate(-45deg);\n",
    "}\n",
    "\n",
    "/* Colors */\n",
    "\n",
    ".corner-ribbon.white{background: #f0f0f0; color: #555;}\n",
    ".corner-ribbon.black{background: #333;}\n",
    ".corner-ribbon.grey{background: #999;}\n",
    ".corner-ribbon.blue{background: #39d;}\n",
    ".corner-ribbon.green{background: #2c7;}\n",
    ".corner-ribbon.turquoise{background: #1b9;}\n",
    ".corner-ribbon.purple{background: #95b;}\n",
    ".corner-ribbon.red{background: #e43;}\n",
    ".corner-ribbon.orange{background: #e82;}\n",
    ".corner-ribbon.yellow{background: #ec0;}\n",
    "\"\"\""
   ]
  },
  {
   "cell_type": "markdown",
   "metadata": {},
   "source": [
    "## Define nbconvert jinja template\n",
    "+ To inject the recent notebook CSS\n",
    "+ To circle in RED cells (`In` and `Out`) marked as \"# NBCONVERT IMPORTANT\" (typically first line of code cell)\n",
    "+ To remove cells (`In` and `Out`) marked as \"# NBCONVERT REMOVE\" (typically first line of code cell)\n"
   ]
  },
  {
   "cell_type": "code",
   "execution_count": 42,
   "metadata": {},
   "outputs": [
    {
     "name": "stdout",
     "output_type": "stream",
     "text": [
      "file template_selective.tpl saved on disk\n"
     ]
    }
   ],
   "source": [
    "template = \"\"\"\n",
    "{% extends 'full.tpl'%}\n",
    "\n",
    "{% block header %}\n",
    "{{ super() }}\n",
    "<style>\n",
    "__notebook_css__\n",
    "</style>\n",
    "{% endblock header %}\n",
    "\n",
    "{% block any_cell %}\n",
    "{% if cell.get('source', '').startswith('# NBCONVERT IMPORTANT') %}\n",
    "    <div style=\"border:thin solid red\">\n",
    "        {{ super() }}\n",
    "    </div>\n",
    "{% elif cell.get('source', '').startswith('# NBCONVERT REMOVE') %}\n",
    "    <div>\n",
    "    </div>\n",
    "{% else %}\n",
    "    {{ super() }}\n",
    "{% endif %}\n",
    "{% endblock any_cell %}\n",
    "\"\"\"\n",
    "\n",
    "dic = {'__notebook_css__': notebook_css}\n",
    "\n",
    "template = multiple_replace(dic, template)\n",
    "\n",
    "path = 'template_selective.tpl'\n",
    "write_file(template, path)"
   ]
  },
  {
   "cell_type": "code",
   "execution_count": 43,
   "metadata": {
    "collapsed": true
   },
   "outputs": [],
   "source": [
    "# template = \"\"\"\n",
    "# {% extends 'full.tpl'%}\n",
    "\n",
    "\n",
    "\n",
    "# {% block any_cell %}\n",
    "# {% if cell.get('source', '').startswith('# NBCONVERT IMPORTANT') %}\n",
    "#     <div style=\"border:thin solid red\">\n",
    "#         {{ super() }}\n",
    "#     </div>\n",
    "# {% elif cell.get('source', '').startswith('# NBCONVERT REMOVE') %}\n",
    "#     <div>\n",
    "#     </div>\n",
    "# {% else %}\n",
    "#     {{ super() }}\n",
    "# {% endif %}\n",
    "# {% endblock any_cell %}\n",
    "# \"\"\"\n",
    "\n",
    "# # dic = {'__notebook_css__': notebook_css}\n",
    "\n",
    "# template = multiple_replace(dic, template)\n",
    "\n",
    "# path = 'template_selective.tpl'\n",
    "# write_file(template, path)"
   ]
  },
  {
   "cell_type": "markdown",
   "metadata": {},
   "source": [
    "## Define nbconvert jinja template\n",
    "+ To inject the recent notebook CSS\n",
    "+ To remove all `In` cells and display only outputs\n",
    "+ To hide the `Out[]` prompts and slightly reduce the left margin\n"
   ]
  },
  {
   "cell_type": "code",
   "execution_count": 50,
   "metadata": {},
   "outputs": [
    {
     "name": "stdout",
     "output_type": "stream",
     "text": [
      "file template_hide_input.tpl saved on disk\n"
     ]
    }
   ],
   "source": [
    "template = \"\"\"\n",
    "{% extends 'full.tpl'%}\n",
    "\n",
    "{% block header %}\n",
    "{{ super() }}\n",
    "<style>\n",
    "__notebook_css__\n",
    "__prompt_css__\n",
    "__ribbon_css__\n",
    "</style>\n",
    "{% endblock header %}\n",
    "\n",
    "{% block body %}\n",
    "    <div class=\"corner-ribbon top-right sticky blue\">IMPORTANT</div>\n",
    "    {{ super() }}\n",
    "{% endblock body %}\n",
    "\n",
    "\n",
    "{% block input_group %}\n",
    "{% endblock input_group %}\n",
    "\n",
    "{% block any_cell %}\n",
    "{% if cell.get('source', '').startswith('# NBCONVERT IMPORTANT') %}\n",
    "    <div style=\"border:3px solid orange; background-color: #f7f7f7\">\n",
    "        {{ super() }}\n",
    "    </div>\n",
    "{% elif cell.get('source', '').startswith('# NBCONVERT REMOVE') %}\n",
    "    <div>\n",
    "    </div>\n",
    "{% else %}\n",
    "    {{ super() }}\n",
    "{% endif %}\n",
    "{% endblock any_cell %}\n",
    "\"\"\"\n",
    "\n",
    "dic = {'__notebook_css__': notebook_css,\n",
    "       '__prompt_css__': prompt_css,\n",
    "       '__ribbon_css__': ribbon_css\n",
    "      }\n",
    "\n",
    "template = multiple_replace(dic, template)\n",
    "\n",
    "path = 'template_hide_input.tpl'\n",
    "write_file(template, path)"
   ]
  },
  {
   "cell_type": "markdown",
   "metadata": {},
   "source": [
    "## Choose notebook and template\n",
    "+ To run nbconvert\n"
   ]
  },
  {
   "cell_type": "code",
   "execution_count": 51,
   "metadata": {},
   "outputs": [
    {
     "name": "stdout",
     "output_type": "stream",
     "text": [
      "Run nbconvert with\n",
      "\tnotebook\tsample_notebook.ipynb\n",
      "\ttemplate\ttemplate_hide_input.tpl\n"
     ]
    }
   ],
   "source": [
    "nb_filename = 'sample_notebook.ipynb'\n",
    "\n",
    "# template = 'template_selective.tpl'\n",
    "template = 'template_hide_input.tpl'\n",
    "\n",
    "print('Run nbconvert with\\n\\tnotebook\\t{}\\n\\ttemplate\\t{}'.format(nb_filename, template))"
   ]
  },
  {
   "cell_type": "code",
   "execution_count": 52,
   "metadata": {
    "scrolled": false
   },
   "outputs": [
    {
     "name": "stdout",
     "output_type": "stream",
     "text": [
      "[NbConvertApp] Converting notebook sample_notebook.ipynb to html\n",
      "[NbConvertApp] Writing 541441 bytes to sample_notebook.html\n"
     ]
    }
   ],
   "source": [
    "!jupyter nbconvert --to html $nb_filename --template=$template"
   ]
  },
  {
   "cell_type": "code",
   "execution_count": 64,
   "metadata": {},
   "outputs": [
    {
     "name": "stdout",
     "output_type": "stream",
     "text": [
      "# packages in environment at /usr/local/anaconda3:\n",
      "#\n",
      "nbconvert                 5.3.1            py36h810822e_0  \n"
     ]
    }
   ],
   "source": [
    "!conda list nbconvert"
   ]
  },
  {
   "cell_type": "code",
   "execution_count": null,
   "metadata": {
    "collapsed": true
   },
   "outputs": [],
   "source": []
  },
  {
   "cell_type": "code",
   "execution_count": null,
   "metadata": {
    "collapsed": true
   },
   "outputs": [],
   "source": []
  }
 ],
 "metadata": {
  "kernelspec": {
   "display_name": "Python 3",
   "language": "python",
   "name": "python3"
  },
  "language_info": {
   "codemirror_mode": {
    "name": "ipython",
    "version": 3
   },
   "file_extension": ".py",
   "mimetype": "text/x-python",
   "name": "python",
   "nbconvert_exporter": "python",
   "pygments_lexer": "ipython3",
   "version": "3.6.1"
  }
 },
 "nbformat": 4,
 "nbformat_minor": 2
}
