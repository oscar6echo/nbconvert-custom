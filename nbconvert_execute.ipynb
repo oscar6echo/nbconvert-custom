{
 "cells": [
  {
   "cell_type": "code",
   "execution_count": 1,
   "metadata": {
    "collapsed": true
   },
   "outputs": [],
   "source": [
    "import os\n",
    "import nbformat\n",
    "import nbconvert\n",
    "\n",
    "import datetime as dt\n",
    "from nbconvert.preprocessors import ExecutePreprocessor\n",
    "from nbconvert.preprocessors import CellExecutionError"
   ]
  },
  {
   "cell_type": "code",
   "execution_count": 2,
   "metadata": {},
   "outputs": [],
   "source": [
    "# time stamp\n",
    "now = dt.datetime.now().strftime('%Y%m%d_%H%M%S.%f')[:-3]\n",
    "\n",
    "# define input and output nb's\n",
    "path = 'sample_notebook.ipynb'\n",
    "path_out = os.path.join('output', 'sample_notebook_{}.ipynb'.format(now))\n",
    "\n",
    "# load nb\n",
    "with open(path) as f:\n",
    "    nb = nbformat.read(f, as_version=4)\n",
    "\n",
    "# create ep\n",
    "ep = ExecutePreprocessor(timeout=600, kernel_name='python3')"
   ]
  },
  {
   "cell_type": "code",
   "execution_count": 5,
   "metadata": {
    "collapsed": true
   },
   "outputs": [],
   "source": [
    "# run catching errors\n",
    "try:\n",
    "    out = ep.preprocess(nb, {'metadata': {'path': '.'}})\n",
    "except CellExecutionError:\n",
    "    out = None\n",
    "    msg = 'Error executing the notebook \"%s\".\\n\\n' % path\n",
    "    msg += 'See notebook \"%s\" for the traceback.' % path_out\n",
    "    print(msg)\n",
    "    raise\n",
    "finally:\n",
    "    with open(path_out, mode='w') as f:\n",
    "        nbformat.write(nb, f)"
   ]
  },
  {
   "cell_type": "code",
   "execution_count": null,
   "metadata": {
    "collapsed": true
   },
   "outputs": [],
   "source": []
  }
 ],
 "metadata": {
  "kernelspec": {
   "display_name": "Python 3",
   "language": "python",
   "name": "python3"
  },
  "language_info": {
   "codemirror_mode": {
    "name": "ipython",
    "version": 3
   },
   "file_extension": ".py",
   "mimetype": "text/x-python",
   "name": "python",
   "nbconvert_exporter": "python",
   "pygments_lexer": "ipython3",
   "version": "3.6.1"
  }
 },
 "nbformat": 4,
 "nbformat_minor": 2
}
